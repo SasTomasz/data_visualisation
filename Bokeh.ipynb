{
 "cells": [
  {
   "cell_type": "markdown",
   "id": "40e5ba4f",
   "metadata": {},
   "source": [
    "## Import data from csv file and show it in plot"
   ]
  },
  {
   "cell_type": "markdown",
   "id": "64dce54d",
   "metadata": {},
   "source": [
    "When can't import some module try do it here <br>\n",
    "!pip install module_name"
   ]
  },
  {
   "cell_type": "code",
   "execution_count": 6,
   "id": "5237aa60",
   "metadata": {},
   "outputs": [],
   "source": [
    "import pandas\n",
    "from bokeh.plotting import figure\n",
    "from bokeh.io import output_file, show"
   ]
  },
  {
   "cell_type": "code",
   "execution_count": 12,
   "id": "61f1dff8",
   "metadata": {},
   "outputs": [],
   "source": [
    "df = pandas.read_csv(\"data.csv\")\n",
    "x_axis = df[\"x\"]\n",
    "y_axis = df[\"y\"]\n",
    "\n",
    "f = figure()\n",
    "output_file(\"simple_plot.html\")\n",
    "\n",
    "f.line(x_axis, y_axis)\n",
    "show(f)"
   ]
  },
  {
   "cell_type": "markdown",
   "id": "2b555b5b",
   "metadata": {},
   "source": [
    "### Excercise: Make plot from university data\n",
    "The following line graph shows the percentage of women who have received a bachelor's degree over the years in the USA. The graph was produced from the Year  and Engineering columns of the CSV file provided in the following link:\n",
    "\n",
    "https://pythonizing.github.io/data/bachelors.csv"
   ]
  },
  {
   "cell_type": "code",
   "execution_count": 24,
   "id": "a1bbd2fe",
   "metadata": {},
   "outputs": [],
   "source": [
    "df_2 = pandas.read_csv(\"https://pythonizing.github.io/data/bachelors.csv\") # read_csv can read file directly from link\n",
    "x_axis = df_2[\"Year\"]\n",
    "y_axis = df_2[\"Engineering\"]\n",
    "\n",
    "output_file(\"engineering_women.html\")\n",
    "f = figure()\n",
    "f.line(x_axis, y_axis)\n",
    "show(f)\n"
   ]
  },
  {
   "cell_type": "markdown",
   "id": "cd841a7b",
   "metadata": {},
   "source": [
    "### Plot from excel files"
   ]
  },
  {
   "cell_type": "code",
   "execution_count": 27,
   "id": "e4000ac2",
   "metadata": {},
   "outputs": [],
   "source": [
    "import openpyxl\n",
    "import xlrd"
   ]
  }
 ],
 "metadata": {
  "kernelspec": {
   "display_name": "Python 3 (ipykernel)",
   "language": "python",
   "name": "python3"
  },
  "language_info": {
   "codemirror_mode": {
    "name": "ipython",
    "version": 3
   },
   "file_extension": ".py",
   "mimetype": "text/x-python",
   "name": "python",
   "nbconvert_exporter": "python",
   "pygments_lexer": "ipython3",
   "version": "3.10.0"
  }
 },
 "nbformat": 4,
 "nbformat_minor": 5
}
